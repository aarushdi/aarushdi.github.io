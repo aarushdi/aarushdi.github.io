{
 "cells": [
  {
   "cell_type": "code",
   "execution_count": 78,
   "id": "17d3e58b-5cd4-4646-8543-f5989641309a",
   "metadata": {},
   "outputs": [],
   "source": [
    "import numpy as np\n",
    "import pandas as pd\n",
    "\n",
    "import csv\n",
    "import matplotlib.pyplot as plt\n",
    "\n",
    "import matplotlib.pyplot as plt # plotting library\n",
    "%matplotlib inline\n",
    "from PIL import Image\n",
    "\n",
    "from keras.datasets import cifar10\n",
    "\n",
    "from keras.models import Sequential\n",
    "from keras.layers import Dense , Activation, Dropout\n",
    "from keras.preprocessing.image import ImageDataGenerator\n",
    "from keras.optimizers import Adam ,RMSprop\n",
    "from keras import  backend as K\n",
    "from keras.utils import to_categorical\n",
    "from keras.models import Sequential\n",
    "from keras.layers import Dense, Activation, Dropout\n",
    "from keras.utils import to_categorical, plot_model\n",
    "from keras.models import Sequential\n",
    "from keras.layers import Conv2D, MaxPooling2D, Flatten, Dense\n",
    "\n",
    "import os\n",
    "import imageio\n",
    "\n",
    "from skimage.transform import rotate\n",
    "from scipy.ndimage import rotate\n"
   ]
  },
  {
   "cell_type": "code",
   "execution_count": 79,
   "id": "b01ff857-8e8a-4da5-bf30-020e133c2473",
   "metadata": {},
   "outputs": [],
   "source": [
    "def frame_image(img, frame_width):\n",
    "    b = frame_width # border size in pixel\n",
    "    ny, nx = img.shape[0], img.shape[1] # resolution / number of pixels in x and y\n",
    "    framed_img = Image.new('RGB', (b+ny+b, b+nx+b), (255, 0, 0)) # RGB color tuple\n",
    "    framed_img = np.array(framed_img.getdata()).reshape(framed_img.size[0], framed_img.size[1], 3)\n",
    "    framed_img[b:-b, b:-b] = img\n",
    "    return framed_img"
   ]
  },
  {
   "cell_type": "code",
   "execution_count": 80,
   "id": "19d23680-f178-4dd4-b117-91bd7f0e9765",
   "metadata": {},
   "outputs": [
    {
     "name": "stdout",
     "output_type": "stream",
     "text": [
      "['ship', 'automobile', 'cat', 'dog']\n"
     ]
    }
   ],
   "source": [
    "# load dataset\n",
    "(x_train, y_train),(x_test, y_test) = cifar10.load_data()\n",
    "\n",
    "\n",
    "# Class names for CIFAR-10\n",
    "cifar10_labels = [\n",
    "    'airplane', 'automobile', 'bird', 'cat', 'deer',\n",
    "    'dog', 'frog', 'horse', 'ship', 'truck'\n",
    "]\n",
    "\n",
    "# Sample 4 images from the train dataset\n",
    "indexes = np.random.randint(0, x_train.shape[0], size=4)\n",
    "images = x_train[indexes]\n",
    "labels = y_train[indexes]\n",
    "\n",
    "# Convert numerical labels to label names\n",
    "label_names = [cifar10_labels[label[0]] for label in labels]\n",
    "\n",
    "print(label_names)"
   ]
  },
  {
   "cell_type": "code",
   "execution_count": 81,
   "id": "cb1cc2ea-7112-4813-a5b5-712bff6a84ef",
   "metadata": {},
   "outputs": [
    {
     "data": {
      "image/png": "[encoded data removed]",
      "text/plain": [
       "<Figure size 500x500 with 4 Axes>"
      ]
     },
     "metadata": {},
     "output_type": "display_data"
    }
   ],
   "source": [
    "# plot 4 MNIST digits\n",
    "plt.figure(figsize=(5,5))\n",
    "for i in range(len(indexes)):\n",
    "    plt.subplot(2, 2, i + 1)\n",
    "    image = images[i]\n",
    "    plt.text(1, -3, f\"{label_names[i]}\", fontsize=12, color='w', bbox=dict(fill=True, edgecolor='k', linewidth=3))\n",
    "    \n",
    "    plt.imshow(image, cmap='gray')\n",
    "    plt.axis('off')\n",
    "    \n",
    "plt.show()\n",
    "#plt.savefig(\"mnist-samples.png\")\n",
    "plt.close('all')"
   ]
  },
  {
   "cell_type": "code",
   "execution_count": 82,
   "id": "3211584b-ddbe-4986-a9d4-bd974f8ed17c",
   "metadata": {},
   "outputs": [],
   "source": [
    "# compute the number of labels\n",
    "num_labels = len(np.unique(y_train))\n",
    "\n",
    "# convert to one-hot vector\n",
    "y_train = to_categorical(y_train, num_classes=num_labels)\n",
    "y_test = to_categorical(y_test, num_classes=num_labels)\n",
    "\n",
    "\n",
    "# image dimensions (assumed square)\n",
    "image_size = x_train.shape[1]\n",
    "input_size = image_size * image_size"
   ]
  },
  {
   "cell_type": "code",
   "execution_count": 83,
   "id": "1abaf21f-7c95-492f-a3d7-6fe247e96c73",
   "metadata": {},
   "outputs": [],
   "source": [
    "# resize and normalize\n",
    "x_train = np.reshape(x_train, [-1, input_size])\n",
    "x_train = x_train.astype('float32') / 255\n",
    "x_test = np.reshape(x_test, [-1, input_size])\n",
    "x_test = x_test.astype('float32') / 255"
   ]
  },
  {
   "cell_type": "code",
   "execution_count": 84,
   "id": "880a7016-ef17-41f3-b951-26f2fe52117e",
   "metadata": {},
   "outputs": [],
   "source": [
    "# network parameters\n",
    "batch_size = 128\n",
    "hidden_units = 256\n",
    "dropout = 0.45"
   ]
  },
  {
   "cell_type": "code",
   "execution_count": 85,
   "id": "61d22249-77d1-486c-a512-8d3e7cd8d39f",
   "metadata": {},
   "outputs": [],
   "source": [
    "# model is a 3-layer MLP with ReLU and dropout after each layer\n",
    "#model = Sequential()\n",
    "#model.add(Dense(hidden_units, input_dim=input_size))\n",
    "#model.add(Activation('relu'))\n",
    "#model.add(Dropout(dropout))\n",
    "#model.add(Dense(hidden_units))\n",
    "#model.add(Activation('relu'))\n",
    "#model.add(Dropout(dropout))\n",
    "#model.add(Dense(num_labels))\n",
    "#model.add(Activation('softmax'))\n",
    "\n",
    "model = Sequential()\n",
    "model.add(Conv2D(32, (3, 3), activation='relu', input_shape=(32, 32, 3)))\n",
    "model.add(MaxPooling2D((2, 2)))\n",
    "model.add(Flatten())\n",
    "model.add(Dense(128, activation='relu'))\n",
    "model.add(Dense(num_classes, activation='softmax'))"
   ]
  },
  {
   "cell_type": "code",
   "execution_count": 86,
   "id": "cce503ed-422a-4dc1-a83e-bbb4c3837dc8",
   "metadata": {},
   "outputs": [
    {
     "name": "stdout",
     "output_type": "stream",
     "text": [
      "Model: \"sequential_5\"\n",
      "_________________________________________________________________\n",
      " Layer (type)                Output Shape              Param #   \n",
      "=================================================================\n",
      " dense_15 (Dense)            (None, 256)               262400    \n",
      "                                                                 \n",
      " activation_15 (Activation)  (None, 256)               0         \n",
      "                                                                 \n",
      " dropout_10 (Dropout)        (None, 256)               0         \n",
      "                                                                 \n",
      " dense_16 (Dense)            (None, 256)               65792     \n",
      "                                                                 \n",
      " activation_16 (Activation)  (None, 256)               0         \n",
      "                                                                 \n",
      " dropout_11 (Dropout)        (None, 256)               0         \n",
      "                                                                 \n",
      " dense_17 (Dense)            (None, 10)                2570      \n",
      "                                                                 \n",
      " activation_17 (Activation)  (None, 10)                0         \n",
      "                                                                 \n",
      "=================================================================\n",
      "Total params: 330762 (1.26 MB)\n",
      "Trainable params: 330762 (1.26 MB)\n",
      "Non-trainable params: 0 (0.00 Byte)\n",
      "_________________________________________________________________\n"
     ]
    }
   ],
   "source": [
    "model.summary()"
   ]
  },
  {
   "cell_type": "code",
   "execution_count": 87,
   "id": "82f58015-a2ff-4d37-ad4d-e3ed0530d2a1",
   "metadata": {},
   "outputs": [
    {
     "data": {
      "image/png": "[encoded data removed]",
      "text/plain": [
       "<IPython.core.display.Image object>"
      ]
     },
     "execution_count": 87,
     "metadata": {},
     "output_type": "execute_result"
    }
   ],
   "source": [
    "plot_model(model, to_file='mlp-mnist.png', show_shapes=True)"
   ]
  },
  {
   "cell_type": "code",
   "execution_count": 89,
   "id": "b9cb9cfb-7691-45d5-811e-5829bb17806c",
   "metadata": {},
   "outputs": [],
   "source": [
    "# Compile the model\n",
    "model.compile(loss='categorical_crossentropy', \n",
    "              optimizer='adam',\n",
    "              metrics=['accuracy'])"
   ]
  },
  {
   "cell_type": "code",
   "execution_count": 89,
   "id": "b86d765c-c701-4691-a234-455feef58a29",
   "metadata": {},
   "outputs": [
    {
     "ename": "ValueError",
     "evalue": "Data cardinality is ambiguous:\n  x sizes: 150000\n  y sizes: 50000\nMake sure all arrays contain the same number of samples.",
     "output_type": "error",
     "traceback": [
      "\u001b[0;31m---------------------------------------------------------------------------\u001b[0m",
      "\u001b[0;31mValueError\u001b[0m                                Traceback (most recent call last)",
      "Cell \u001b[0;32mIn[89], line 1\u001b[0m\n\u001b[0;32m----> 1\u001b[0m \u001b[43mmodel\u001b[49m\u001b[38;5;241;43m.\u001b[39;49m\u001b[43mfit\u001b[49m\u001b[43m(\u001b[49m\u001b[43mx_train\u001b[49m\u001b[43m,\u001b[49m\u001b[43m \u001b[49m\u001b[43my_train\u001b[49m\u001b[43m,\u001b[49m\u001b[43m \u001b[49m\u001b[43mepochs\u001b[49m\u001b[38;5;241;43m=\u001b[39;49m\u001b[38;5;241;43m20\u001b[39;49m\u001b[43m,\u001b[49m\u001b[43m \u001b[49m\u001b[43mbatch_size\u001b[49m\u001b[38;5;241;43m=\u001b[39;49m\u001b[43mbatch_size\u001b[49m\u001b[43m)\u001b[49m\n",
      "File \u001b[0;32m/opt/homebrew/lib/python3.9/site-packages/keras/src/utils/traceback_utils.py:70\u001b[0m, in \u001b[0;36mfilter_traceback.<locals>.error_handler\u001b[0;34m(*args, **kwargs)\u001b[0m\n\u001b[1;32m     67\u001b[0m     filtered_tb \u001b[38;5;241m=\u001b[39m _process_traceback_frames(e\u001b[38;5;241m.\u001b[39m__traceback__)\n\u001b[1;32m     68\u001b[0m     \u001b[38;5;66;03m# To get the full stack trace, call:\u001b[39;00m\n\u001b[1;32m     69\u001b[0m     \u001b[38;5;66;03m# `tf.debugging.disable_traceback_filtering()`\u001b[39;00m\n\u001b[0;32m---> 70\u001b[0m     \u001b[38;5;28;01mraise\u001b[39;00m e\u001b[38;5;241m.\u001b[39mwith_traceback(filtered_tb) \u001b[38;5;28;01mfrom\u001b[39;00m \u001b[38;5;28mNone\u001b[39m\n\u001b[1;32m     71\u001b[0m \u001b[38;5;28;01mfinally\u001b[39;00m:\n\u001b[1;32m     72\u001b[0m     \u001b[38;5;28;01mdel\u001b[39;00m filtered_tb\n",
      "File \u001b[0;32m/opt/homebrew/lib/python3.9/site-packages/keras/src/engine/data_adapter.py:1950\u001b[0m, in \u001b[0;36m_check_data_cardinality\u001b[0;34m(data)\u001b[0m\n\u001b[1;32m   1943\u001b[0m     msg \u001b[38;5;241m+\u001b[39m\u001b[38;5;241m=\u001b[39m \u001b[38;5;124m\"\u001b[39m\u001b[38;5;124m  \u001b[39m\u001b[38;5;132;01m{}\u001b[39;00m\u001b[38;5;124m sizes: \u001b[39m\u001b[38;5;132;01m{}\u001b[39;00m\u001b[38;5;130;01m\\n\u001b[39;00m\u001b[38;5;124m\"\u001b[39m\u001b[38;5;241m.\u001b[39mformat(\n\u001b[1;32m   1944\u001b[0m         label,\n\u001b[1;32m   1945\u001b[0m         \u001b[38;5;124m\"\u001b[39m\u001b[38;5;124m, \u001b[39m\u001b[38;5;124m\"\u001b[39m\u001b[38;5;241m.\u001b[39mjoin(\n\u001b[1;32m   1946\u001b[0m             \u001b[38;5;28mstr\u001b[39m(i\u001b[38;5;241m.\u001b[39mshape[\u001b[38;5;241m0\u001b[39m]) \u001b[38;5;28;01mfor\u001b[39;00m i \u001b[38;5;129;01min\u001b[39;00m tf\u001b[38;5;241m.\u001b[39mnest\u001b[38;5;241m.\u001b[39mflatten(single_data)\n\u001b[1;32m   1947\u001b[0m         ),\n\u001b[1;32m   1948\u001b[0m     )\n\u001b[1;32m   1949\u001b[0m msg \u001b[38;5;241m+\u001b[39m\u001b[38;5;241m=\u001b[39m \u001b[38;5;124m\"\u001b[39m\u001b[38;5;124mMake sure all arrays contain the same number of samples.\u001b[39m\u001b[38;5;124m\"\u001b[39m\n\u001b[0;32m-> 1950\u001b[0m \u001b[38;5;28;01mraise\u001b[39;00m \u001b[38;5;167;01mValueError\u001b[39;00m(msg)\n",
      "\u001b[0;31mValueError\u001b[0m: Data cardinality is ambiguous:\n  x sizes: 150000\n  y sizes: 50000\nMake sure all arrays contain the same number of samples."
     ]
    }
   ],
   "source": [
    "# Fit the model to the data\n",
    "batch_size = 32\n",
    "epochs = 20\n",
    "model.fit(x_train, y_train, epochs=epochs, batch_size=batch_size)"
   ]
  },
  {
   "cell_type": "code",
   "execution_count": 13,
   "id": "f9f28d89-2104-4e75-9099-2c1e21dd6b3a",
   "metadata": {},
   "outputs": [
    {
     "name": "stdout",
     "output_type": "stream",
     "text": [
      "79/79 [==============================] - 0s 904us/step - loss: 0.0663 - accuracy: 0.9824\n",
      "\n",
      "Test accuracy: 98.2%\n"
     ]
    }
   ],
   "source": [
    "loss, acc = model.evaluate(x_test, y_test, batch_size=batch_size)\n",
    "print(\"\\nTest accuracy: %.1f%%\" % (100.0 * acc))"
   ]
  },
  {
   "cell_type": "markdown",
   "id": "be9b5308-117d-47ec-9692-861477ba23c8",
   "metadata": {},
   "source": [
    "## TEST ONE RANDOM TEST IMAGE"
   ]
  },
  {
   "cell_type": "code",
   "execution_count": 14,
   "id": "056c07d8-dc40-4834-9785-e3bf76272c39",
   "metadata": {},
   "outputs": [
    {
     "name": "stdout",
     "output_type": "stream",
     "text": [
      "1840\n"
     ]
    }
   ],
   "source": [
    "(x_train, y_train),(x_test, y_test) = mnist.load_data()\n",
    "\n",
    "# Select 1 random index from the test data\n",
    "random_index = np.random.randint(0, x_test.shape[0])\n",
    "print(random_index)\n",
    "\n",
    "# Use the selected random test image to make a prediction\n",
    "random_test_image = x_test[random_index]\n",
    "random_test_image_flattened = random_test_image.flatten()\n",
    "random_test_image_flattened = np.expand_dims(random_test_image_flattened, axis=0)"
   ]
  },
  {
   "cell_type": "code",
   "execution_count": 15,
   "id": "2fea9bd6-e3f9-4ca7-ba79-fa63e7bae27f",
   "metadata": {},
   "outputs": [
    {
     "name": "stdout",
     "output_type": "stream",
     "text": [
      "1/1 [==============================] - 0s 43ms/step\n",
      "3\n"
     ]
    }
   ],
   "source": [
    "# Make the prediction\n",
    "prediction = model.predict(random_test_image_flattened)\n",
    "predicted_digit = np.argmax(prediction)\n",
    "print(predicted_digit)"
   ]
  },
  {
   "cell_type": "code",
   "execution_count": 16,
   "id": "9102d068-4eee-4fe3-83cf-f3437d9dc12a",
   "metadata": {},
   "outputs": [
    {
     "name": "stdout",
     "output_type": "stream",
     "text": [
      "3\n",
      "True Label: 3\n",
      "Predicted Label: 3\n",
      "Prediction is Correct: True\n"
     ]
    }
   ],
   "source": [
    "# Get the true label for the selected random test image\n",
    "true_label = y_test[random_index]\n",
    "print(true_label)\n",
    "\n",
    "# Check if the true label is equal to the predicted label\n",
    "is_prediction_correct = true_label == predicted_digit\n",
    "\n",
    "print(\"True Label:\", true_label)\n",
    "print(\"Predicted Label:\", predicted_digit)\n",
    "print(\"Prediction is Correct:\", is_prediction_correct)"
   ]
  },
  {
   "cell_type": "markdown",
   "id": "c6d24b50-80ae-45a3-aafe-bdeefa3c04e3",
   "metadata": {},
   "source": [
    "## TEST ONE A FEW TEST IMAGES"
   ]
  },
  {
   "cell_type": "code",
   "execution_count": 17,
   "id": "dcd38d95-2dca-4c24-bf25-3fbb821ac3ac",
   "metadata": {},
   "outputs": [
    {
     "name": "stdout",
     "output_type": "stream",
     "text": [
      "1/1 [==============================] - 0s 8ms/step\n",
      "1/1 [==============================] - 0s 8ms/step\n",
      "1/1 [==============================] - 0s 8ms/step\n",
      "1/1 [==============================] - 0s 7ms/step\n"
     ]
    },
    {
     "data": {
      "image/png": "[encoded data removed]",
      "text/plain": [
       "<Figure size 500x500 with 4 Axes>"
      ]
     },
     "metadata": {},
     "output_type": "display_data"
    }
   ],
   "source": [
    "(x_train, y_train),(x_test, y_test) = mnist.load_data()\n",
    "\n",
    "# sample 4 mnist digits from train dataset\n",
    "test_indexes = np.random.randint(0, x_test.shape[0], size=4)\n",
    "test_images = x_test[test_indexes]\n",
    "true_test_labels = y_test[test_indexes]\n",
    "\n",
    "#print(test_indexes)\n",
    "\n",
    "# plot 4 MNIST digits\n",
    "plt.figure(figsize=(5,5))\n",
    "\n",
    "for i in range(len(test_indexes)):\n",
    "    plt.subplot(2, 2, i + 1)\n",
    "    test_image = test_images[i]\n",
    "    plt.imshow(test_image,cmap='gray')\n",
    "    test_image_flattened = test_image.flatten()\n",
    "    test_image_flattened = np.expand_dims(test_image_flattened, axis=0)\n",
    "    \n",
    "    # Make the prediction\n",
    "    prediction = model.predict(test_image_flattened)\n",
    "    predicted_test_label = np.argmax(prediction)\n",
    "    \n",
    "    # Check if the true label is equal to the predicted label\n",
    "    is_prediction_correct = true_test_labels[i] == predicted_test_label\n",
    "    #print(is_prediction_correct)\n",
    "    \n",
    "    plt.text(1, -3, r\"$y$: \" + f\"{true_test_labels[i]}\", fontsize=12, color='w', bbox=dict(fill=True, edgecolor='k', linewidth=3))\n",
    "        \n",
    "    # Set the color for the \"Predicted Label\" part of the title based on correctness\n",
    "    bbox_props = dict(fill=False, edgecolor='green', linewidth=3) if is_prediction_correct else dict(fill=False, edgecolor='red', linewidth=3)\n",
    "    plt.text(21, -3, r\"$\\hat{y}$: \" + f\"{predicted_test_label}\", fontsize=12, bbox=bbox_props) \n",
    "        \n",
    "    plt.axis('off')"
   ]
  },
  {
   "cell_type": "markdown",
   "id": "240851c6-edd6-4a3d-aeaa-de2a1c506198",
   "metadata": {},
   "source": [
    "## TEST ROTATED IMAGES"
   ]
  },
  {
   "cell_type": "code",
   "execution_count": 18,
   "id": "01d9a762-adb0-4e14-833a-03e1ceeb1d79",
   "metadata": {},
   "outputs": [
    {
     "name": "stdout",
     "output_type": "stream",
     "text": [
      "[9466 1471 5816  599]\n"
     ]
    }
   ],
   "source": [
    "(x_train, y_train),(x_test, y_test) = mnist.load_data()\n",
    "\n",
    "# sample 4 mnist digits from train dataset\n",
    "test_indexes = np.random.randint(0, x_test.shape[0], size=4)\n",
    "test_images = x_test[test_indexes]\n",
    "true_test_labels = y_test[test_indexes]\n",
    "\n",
    "print(test_indexes)"
   ]
  },
  {
   "cell_type": "code",
   "execution_count": 19,
   "id": "0a8a1938-a357-4ed3-bd1e-3855207cf542",
   "metadata": {},
   "outputs": [
    {
     "name": "stdout",
     "output_type": "stream",
     "text": [
      "[  0  10  20  30  40  50  60  70  80  90 100 110 120 130 140 150 160 170\n",
      " 180]\n"
     ]
    }
   ],
   "source": [
    "# Function to rotate the image clockwise\n",
    "def rotate_image(image, angle):\n",
    "    rotated_image = rotate(image, -angle, reshape=False)  # Make the rotation clockwise by using a negative angle\n",
    "    return rotated_image\n",
    "\n",
    "from scipy.ndimage import rotate\n",
    "\n",
    "def rotate_image(image, angle):\n",
    "    rotated_image = rotate(image, -angle, reshape=False)  # Make the rotation clockwise by using a negative angle\n",
    "    return rotated_image\n",
    "\n",
    "\n",
    "# Generate angles from 0 to 180 degrees at steps of 10 degrees\n",
    "angles = np.arange(0, 190, 10)\n",
    "print(angles)"
   ]
  },
  {
   "cell_type": "code",
   "execution_count": 21,
   "id": "370abe16-032e-4c9f-a53f-88c0b70af684",
   "metadata": {},
   "outputs": [
    {
     "name": "stdout",
     "output_type": "stream",
     "text": [
      "0\n",
      "1/1 [==============================] - 0s 9ms/step\n",
      "1/1 [==============================] - 0s 9ms/step\n",
      "1/1 [==============================] - 0s 8ms/step\n",
      "1/1 [==============================] - 0s 8ms/step\n",
      "10\n",
      "1/1 [==============================] - 0s 7ms/step\n",
      "1/1 [==============================] - 0s 7ms/step\n",
      "1/1 [==============================] - 0s 7ms/step\n",
      "1/1 [==============================] - 0s 7ms/step\n",
      "20\n",
      "1/1 [==============================] - 0s 7ms/step\n",
      "1/1 [==============================] - 0s 8ms/step\n",
      "1/1 [==============================] - 0s 8ms/step\n",
      "1/1 [==============================] - 0s 7ms/step\n",
      "30\n",
      "1/1 [==============================] - 0s 7ms/step\n",
      "1/1 [==============================] - 0s 8ms/step\n",
      "1/1 [==============================] - 0s 8ms/step\n",
      "1/1 [==============================] - 0s 8ms/step\n",
      "40\n",
      "1/1 [==============================] - 0s 8ms/step\n",
      "1/1 [==============================] - 0s 7ms/step\n",
      "1/1 [==============================] - 0s 8ms/step\n",
      "1/1 [==============================] - 0s 7ms/step\n",
      "50\n",
      "1/1 [==============================] - 0s 7ms/step\n",
      "1/1 [==============================] - 0s 8ms/step\n",
      "1/1 [==============================] - 0s 7ms/step\n",
      "1/1 [==============================] - 0s 7ms/step\n",
      "60\n",
      "1/1 [==============================] - 0s 8ms/step\n",
      "1/1 [==============================] - 0s 7ms/step\n",
      "1/1 [==============================] - 0s 7ms/step\n",
      "1/1 [==============================] - 0s 7ms/step\n",
      "70\n",
      "1/1 [==============================] - 0s 7ms/step\n",
      "1/1 [==============================] - 0s 7ms/step\n",
      "1/1 [==============================] - 0s 8ms/step\n",
      "1/1 [==============================] - 0s 7ms/step\n",
      "80\n",
      "1/1 [==============================] - 0s 8ms/step\n",
      "1/1 [==============================] - 0s 8ms/step\n",
      "1/1 [==============================] - 0s 8ms/step\n",
      "1/1 [==============================] - 0s 8ms/step\n",
      "90\n",
      "1/1 [==============================] - 0s 8ms/step\n",
      "1/1 [==============================] - 0s 7ms/step\n",
      "1/1 [==============================] - 0s 7ms/step\n",
      "1/1 [==============================] - 0s 8ms/step\n",
      "100\n",
      "1/1 [==============================] - 0s 8ms/step\n",
      "1/1 [==============================] - 0s 8ms/step\n",
      "1/1 [==============================] - 0s 8ms/step\n",
      "1/1 [==============================] - 0s 8ms/step\n",
      "110\n",
      "1/1 [==============================] - 0s 8ms/step\n",
      "1/1 [==============================] - 0s 8ms/step\n",
      "1/1 [==============================] - 0s 8ms/step\n",
      "1/1 [==============================] - 0s 8ms/step\n",
      "120\n",
      "1/1 [==============================] - 0s 7ms/step\n",
      "1/1 [==============================] - 0s 8ms/step\n",
      "1/1 [==============================] - 0s 7ms/step\n",
      "1/1 [==============================] - 0s 8ms/step\n",
      "130\n",
      "1/1 [==============================] - 0s 7ms/step\n",
      "1/1 [==============================] - 0s 8ms/step\n",
      "1/1 [==============================] - 0s 7ms/step\n",
      "1/1 [==============================] - 0s 8ms/step\n",
      "140\n",
      "1/1 [==============================] - 0s 9ms/step\n",
      "1/1 [==============================] - 0s 8ms/step\n",
      "1/1 [==============================] - 0s 7ms/step\n",
      "1/1 [==============================] - 0s 7ms/step\n",
      "150\n",
      "1/1 [==============================] - 0s 8ms/step\n",
      "1/1 [==============================] - 0s 8ms/step\n",
      "1/1 [==============================] - 0s 7ms/step\n",
      "1/1 [==============================] - 0s 7ms/step\n",
      "160\n",
      "1/1 [==============================] - 0s 8ms/step\n",
      "1/1 [==============================] - 0s 8ms/step\n",
      "1/1 [==============================] - 0s 7ms/step\n",
      "1/1 [==============================] - 0s 7ms/step\n",
      "170\n",
      "1/1 [==============================] - 0s 7ms/step\n",
      "1/1 [==============================] - 0s 8ms/step\n",
      "1/1 [==============================] - 0s 7ms/step\n",
      "1/1 [==============================] - 0s 8ms/step\n",
      "180\n",
      "1/1 [==============================] - 0s 7ms/step\n",
      "1/1 [==============================] - 0s 8ms/step\n",
      "1/1 [==============================] - 0s 7ms/step\n",
      "1/1 [==============================] - 0s 8ms/step\n"
     ]
    }
   ],
   "source": [
    "# Create a folder to save the images\n",
    "output_folder = \"fig-rotated\"\n",
    "os.makedirs(output_folder, exist_ok=True)\n",
    "\n",
    "# Make predictions for each rotated image\n",
    "for angle in angles:\n",
    "    print(angle)\n",
    "    \n",
    "    # Plot 4 MNIST digits\n",
    "    plt.figure(figsize=(5, 5))\n",
    "    \n",
    "    for i in range(len(test_indexes)):\n",
    "        plt.subplot(2, 2, i + 1)\n",
    "        test_image = test_images[i]\n",
    "        \n",
    "        rotated_image = rotate_image(test_image, angle)\n",
    "        rotated_image_flattened = rotated_image.flatten()\n",
    "        rotated_image_flattened = np.expand_dims(rotated_image_flattened, axis=0)\n",
    "        \n",
    "        # Make the prediction (without applying softmax)\n",
    "        prediction = model.predict(rotated_image_flattened)\n",
    "        predicted_test_label = np.argmax(prediction)\n",
    "        \n",
    "        # Convert the true label and predicted label to integers for display\n",
    "        true_label_int = int(true_test_labels[i])\n",
    "        predicted_digit_int = int(predicted_test_label)\n",
    "        \n",
    "        # Check if the true label is equal to the predicted label\n",
    "        is_prediction_correct = true_test_labels[i] == predicted_test_label\n",
    "        \n",
    "        # Plot the rotated image and the prediction result\n",
    "        plt.imshow(rotated_image.squeeze(), cmap='gray')\n",
    "        \n",
    "        # Display true and predicted labels on the image\n",
    "        plt.text(1, -3, r\"$y$: \" + f\"{true_label_int}\", fontsize=14, color='w', bbox=dict(fill=True, edgecolor='k', linewidth=3))\n",
    "        \n",
    "        # Set the color for the \"Predicted Label\" part of the title based on correctness\n",
    "        bbox_props = dict(fill=False, edgecolor='green', linewidth=3) if is_prediction_correct else dict(fill=False, edgecolor='red', linewidth=3)\n",
    "        plt.text(21, -3, r\"$\\hat{y}$: \" + f\"{predicted_digit_int}\", fontsize=14, bbox=bbox_props)\n",
    "            \n",
    "        plt.axis('off')\n",
    "        \n",
    "        plt.suptitle(f\"Rotation Angle: {angle}°\", fontsize=16, y=1.05)\n",
    "    #plt.show()\n",
    "    \n",
    "    # Save the image with variance value in the filename\n",
    "    filename = f\"{output_folder}/MNIST-rotated-{angle:.0f}.png\"\n",
    "    plt.savefig(filename, dpi=100)\n",
    "    plt.close()"
   ]
  },
  {
   "cell_type": "code",
   "execution_count": 22,
   "id": "c6d6a1c1-a212-4e70-b782-025b55453de0",
   "metadata": {},
   "outputs": [
    {
     "name": "stderr",
     "output_type": "stream",
     "text": [
      "/var/folders/2p/fwp991c52tjdt1br2jl5srb40000gr/T/ipykernel_74908/1550978931.py:10: DeprecationWarning: Starting with ImageIO v3 the behavior of this function will switch to that of iio.v3.imread. To keep the current behavior (and make this warning disappear) use `import imageio.v2 as imageio` or call `imageio.v2.imread` directly.\n",
      "  image = imageio.core.util.Image(imageio.imread(image_path))\n",
      "/var/folders/2p/fwp991c52tjdt1br2jl5srb40000gr/T/ipykernel_74908/1550978931.py:10: DeprecationWarning: Starting with ImageIO v3 the behavior of this function will switch to that of iio.v3.imread. To keep the current behavior (and make this warning disappear) use `import imageio.v2 as imageio` or call `imageio.v2.imread` directly.\n",
      "  image = imageio.core.util.Image(imageio.imread(image_path))\n"
     ]
    }
   ],
   "source": [
    "# List all the image filenames in the output folder\n",
    "#image_filenames = [os.path.join(output_folder, f\"MNIST-noisy-{variance:.2f}.png\") for variance in variances]\n",
    "\n",
    "output_video = \"rotated_video.mp4\"\n",
    "\n",
    "# Create the video\n",
    "with imageio.get_writer(output_video, format=\"FFMPEG\", mode=\"I\", macro_block_size=None, fps=1) as writer:\n",
    "    for angle in angles:\n",
    "        image_path = f\"{output_folder}/MNIST-rotated-{angle:.0f}.png\"\n",
    "        image = imageio.core.util.Image(imageio.imread(image_path))\n",
    "        writer.append_data(image)"
   ]
  },
  {
   "cell_type": "markdown",
   "id": "7a1eb693-d266-4309-b9d2-5ece30a75f0a",
   "metadata": {},
   "source": [
    "## AWGN"
   ]
  },
  {
   "cell_type": "code",
   "execution_count": 25,
   "id": "39abafb8-e191-4af1-b074-fa09054144f2",
   "metadata": {},
   "outputs": [
    {
     "name": "stdout",
     "output_type": "stream",
     "text": [
      "Variance: 0.0\n",
      "1/1 [==============================] - 0s 10ms/step\n",
      "1/1 [==============================] - 0s 9ms/step\n",
      "1/1 [==============================] - 0s 8ms/step\n",
      "1/1 [==============================] - 0s 8ms/step\n",
      "Variance: 0.1388888888888889\n",
      "1/1 [==============================] - 0s 7ms/step\n",
      "1/1 [==============================] - 0s 7ms/step\n",
      "1/1 [==============================] - 0s 8ms/step\n",
      "1/1 [==============================] - 0s 7ms/step\n",
      "Variance: 0.2777777777777778\n",
      "1/1 [==============================] - 0s 8ms/step\n",
      "1/1 [==============================] - 0s 8ms/step\n",
      "1/1 [==============================] - 0s 7ms/step\n",
      "1/1 [==============================] - 0s 7ms/step\n",
      "Variance: 0.4166666666666667\n",
      "1/1 [==============================] - 0s 7ms/step\n",
      "1/1 [==============================] - 0s 7ms/step\n",
      "1/1 [==============================] - 0s 7ms/step\n",
      "1/1 [==============================] - 0s 7ms/step\n",
      "Variance: 0.5555555555555556\n",
      "1/1 [==============================] - 0s 7ms/step\n",
      "1/1 [==============================] - 0s 8ms/step\n",
      "1/1 [==============================] - 0s 8ms/step\n",
      "1/1 [==============================] - 0s 8ms/step\n",
      "Variance: 0.6944444444444444\n",
      "1/1 [==============================] - 0s 7ms/step\n",
      "1/1 [==============================] - 0s 8ms/step\n",
      "1/1 [==============================] - 0s 8ms/step\n",
      "1/1 [==============================] - 0s 8ms/step\n",
      "Variance: 0.8333333333333334\n",
      "1/1 [==============================] - 0s 7ms/step\n",
      "1/1 [==============================] - 0s 8ms/step\n",
      "1/1 [==============================] - 0s 7ms/step\n",
      "1/1 [==============================] - 0s 8ms/step\n",
      "Variance: 0.9722222222222223\n",
      "1/1 [==============================] - 0s 9ms/step\n",
      "1/1 [==============================] - 0s 8ms/step\n",
      "1/1 [==============================] - 0s 8ms/step\n",
      "1/1 [==============================] - 0s 8ms/step\n",
      "Variance: 1.1111111111111112\n",
      "1/1 [==============================] - 0s 8ms/step\n",
      "1/1 [==============================] - 0s 8ms/step\n",
      "1/1 [==============================] - 0s 8ms/step\n",
      "1/1 [==============================] - 0s 8ms/step\n",
      "Variance: 1.25\n",
      "1/1 [==============================] - 0s 7ms/step\n",
      "1/1 [==============================] - 0s 8ms/step\n",
      "1/1 [==============================] - 0s 8ms/step\n",
      "1/1 [==============================] - 0s 9ms/step\n",
      "Variance: 1.3888888888888888\n",
      "1/1 [==============================] - 0s 11ms/step\n",
      "1/1 [==============================] - 0s 8ms/step\n",
      "1/1 [==============================] - 0s 7ms/step\n",
      "1/1 [==============================] - 0s 7ms/step\n",
      "Variance: 1.527777777777778\n",
      "1/1 [==============================] - 0s 8ms/step\n",
      "1/1 [==============================] - 0s 9ms/step\n",
      "1/1 [==============================] - 0s 9ms/step\n",
      "1/1 [==============================] - 0s 7ms/step\n",
      "Variance: 1.6666666666666667\n",
      "1/1 [==============================] - 0s 8ms/step\n",
      "1/1 [==============================] - 0s 8ms/step\n",
      "1/1 [==============================] - 0s 9ms/step\n",
      "1/1 [==============================] - 0s 8ms/step\n",
      "Variance: 1.8055555555555556\n",
      "1/1 [==============================] - 0s 8ms/step\n",
      "1/1 [==============================] - 0s 8ms/step\n",
      "1/1 [==============================] - 0s 7ms/step\n",
      "1/1 [==============================] - 0s 7ms/step\n",
      "Variance: 1.9444444444444446\n",
      "1/1 [==============================] - 0s 9ms/step\n",
      "1/1 [==============================] - 0s 9ms/step\n",
      "1/1 [==============================] - 0s 8ms/step\n",
      "1/1 [==============================] - 0s 8ms/step\n",
      "Variance: 2.0833333333333335\n",
      "1/1 [==============================] - 0s 7ms/step\n",
      "1/1 [==============================] - 0s 9ms/step\n",
      "1/1 [==============================] - 0s 8ms/step\n",
      "1/1 [==============================] - 0s 8ms/step\n",
      "Variance: 2.2222222222222223\n",
      "1/1 [==============================] - 0s 8ms/step\n",
      "1/1 [==============================] - 0s 8ms/step\n",
      "1/1 [==============================] - 0s 8ms/step\n",
      "1/1 [==============================] - 0s 7ms/step\n",
      "Variance: 2.361111111111111\n",
      "1/1 [==============================] - 0s 8ms/step\n",
      "1/1 [==============================] - 0s 9ms/step\n",
      "1/1 [==============================] - 0s 8ms/step\n",
      "1/1 [==============================] - 0s 8ms/step\n",
      "Variance: 2.5\n",
      "1/1 [==============================] - 0s 8ms/step\n",
      "1/1 [==============================] - 0s 7ms/step\n",
      "1/1 [==============================] - 0s 9ms/step\n",
      "1/1 [==============================] - 0s 8ms/step\n"
     ]
    }
   ],
   "source": [
    "import os\n",
    "import imageio\n",
    "\n",
    "# Generate variance values for the additive white noise\n",
    "variances = np.linspace(0, 2.5, 19)\n",
    "\n",
    "# Create a folder to save the images\n",
    "output_folder = \"fig-noisy\"\n",
    "os.makedirs(output_folder, exist_ok=True)\n",
    "\n",
    "# Make predictions for each noisy image and save the images\n",
    "for variance in variances:\n",
    "    print(\"Variance:\", variance)\n",
    "    \n",
    "    # Plot 4 MNIST digits\n",
    "    plt.figure(figsize=(5, 5))\n",
    "    \n",
    "    for i in range(len(test_indexes)):\n",
    "        plt.subplot(2, 2, i + 1)\n",
    "        test_image = test_images[i]\n",
    "        \n",
    "        # Add additive white noise to the test image\n",
    "        noisy_image = test_image + np.random.normal(0, variance, size=test_image.shape)\n",
    "        noisy_image = np.clip(noisy_image, 0, 1)  # Clip values to ensure they are within [0, 1] range\n",
    "        \n",
    "        noisy_image_flattened = noisy_image.flatten()\n",
    "        noisy_image_flattened = np.expand_dims(noisy_image_flattened, axis=0)\n",
    "        \n",
    "        # Make the prediction (without applying softmax) for the noisy image\n",
    "        prediction = model.predict(noisy_image_flattened)\n",
    "        predicted_test_label = np.argmax(prediction)\n",
    "        \n",
    "        # Convert the true label and predicted label to integers for display\n",
    "        true_label_int = int(true_test_labels[i])\n",
    "        predicted_digit_int = int(predicted_test_label)\n",
    "        \n",
    "        # Check if the true label is equal to the predicted label\n",
    "        is_prediction_correct = true_test_labels[i] == predicted_test_label\n",
    "        \n",
    "        # Plot the noisy image and the prediction result\n",
    "        plt.imshow(noisy_image.squeeze(), cmap='gray')\n",
    "        \n",
    "        # Display true and predicted labels on the image\n",
    "        plt.text(1, -3, r\"$y$: \" + f\"{true_label_int}\", fontsize=14, color='w', bbox=dict(fill=True, edgecolor='k', linewidth=3))\n",
    "        \n",
    "        # Set the color for the \"Predicted Label\" part of the title based on correctness\n",
    "        bbox_props = dict(fill=False, edgecolor='green', linewidth=3) if is_prediction_correct else dict(fill=False, edgecolor='red', linewidth=3)\n",
    "        plt.text(21, -3, r\"$\\hat{y}$: \" + f\"{predicted_digit_int}\", fontsize=14, bbox=bbox_props)\n",
    "            \n",
    "        plt.axis('off')\n",
    "\n",
    "    plt.suptitle(f\"Noise Variance: {variance:.2f}\", fontsize=16, y=1.05)\n",
    "    \n",
    "    # Save the image with variance value in the filename\n",
    "    filename = f\"{output_folder}/MNIST-noisy-{variance:.2f}.png\"\n",
    "    plt.savefig(filename, dpi=100)\n",
    "    plt.close()\n",
    "\n",
    "# Create an MP4 video from the saved images\n",
    "#output_video = \"noisy_video.mp4\"\n",
    "#images = [imageio.imread(f\"{output_folder}/noisy_{variance:.2f}.png\") for variance in variances]\n",
    "#imageio.mimsave(output_video, images, fps=1)\n"
   ]
  },
  {
   "cell_type": "code",
   "execution_count": 26,
   "id": "c138e742-bb14-4e17-82df-9a1834790061",
   "metadata": {},
   "outputs": [
    {
     "name": "stderr",
     "output_type": "stream",
     "text": [
      "/var/folders/2p/fwp991c52tjdt1br2jl5srb40000gr/T/ipykernel_74908/3493666756.py:10: DeprecationWarning: Starting with ImageIO v3 the behavior of this function will switch to that of iio.v3.imread. To keep the current behavior (and make this warning disappear) use `import imageio.v2 as imageio` or call `imageio.v2.imread` directly.\n",
      "  image = imageio.core.util.Image(imageio.imread(image_path))\n",
      "/var/folders/2p/fwp991c52tjdt1br2jl5srb40000gr/T/ipykernel_74908/3493666756.py:10: DeprecationWarning: Starting with ImageIO v3 the behavior of this function will switch to that of iio.v3.imread. To keep the current behavior (and make this warning disappear) use `import imageio.v2 as imageio` or call `imageio.v2.imread` directly.\n",
      "  image = imageio.core.util.Image(imageio.imread(image_path))\n"
     ]
    }
   ],
   "source": [
    "# List all the image filenames in the output folder\n",
    "#image_filenames = [os.path.join(output_folder, f\"MNIST-noisy-{variance:.2f}.png\") for variance in variances]\n",
    "\n",
    "output_video = \"noisy_video.mp4\"\n",
    "\n",
    "# Create the video\n",
    "with imageio.get_writer(output_video, format=\"FFMPEG\", mode=\"I\", macro_block_size=None, fps=1) as writer:\n",
    "    for variance in variances:\n",
    "        image_path = f\"{output_folder}/MNIST-noisy-{variance:.2f}.png\"\n",
    "        image = imageio.core.util.Image(imageio.imread(image_path))\n",
    "        writer.append_data(image)"
   ]
  },
  {
   "cell_type": "code",
   "execution_count": null,
   "id": "400d39cf-8bb7-4363-abde-1d805a624e9d",
   "metadata": {},
   "outputs": [],
   "source": []
  }
 ],
 "metadata": {
  "kernelspec": {
   "display_name": "Python 3 (ipykernel)",
   "language": "python",
   "name": "python3"
  },
  "language_info": {
   "codemirror_mode": {
    "name": "ipython",
    "version": 3
   },
   "file_extension": ".py",
   "mimetype": "text/x-python",
   "name": "python",
   "nbconvert_exporter": "python",
   "pygments_lexer": "ipython3",
   "version": "3.9.17"
  }
 },
 "nbformat": 4,
 "nbformat_minor": 5
}
